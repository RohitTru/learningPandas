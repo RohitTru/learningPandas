{
 "cells": [
  {
   "attachments": {},
   "cell_type": "markdown",
   "metadata": {},
   "source": [
    "| Topic | Description |\n",
    "| ----------- | ----------- |\n",
    "| [Series](#Series) | Series is a one-dimensional labeled array capable of holding any data type (integer, string, float, etc.). It is similar to a column in a spreadsheet or a simple data structure like a list or an array |\n",
    "| [Labels](#Labels) | Label refers to the unique identifier associated with each element in a Series or DataFrame. It acts as an index or key that allows for easy identification and retrieval of specific data points. |\n",
    "| [key:Value Objects as Series](#Value-Objects-as-Series) | Converting python dictionaries from python into pandas data frames |\n",
    "| [Pandas Data Frame](#Pandas-Data-Frame) | Type your description here |\n",
    "| [Locate Row](#Locate-Row) | Type your description here |\n",
    "| [Locate Named Indexes](#Locate-Named-Indexes) | Type your description here |"
   ]
  },
  {
   "cell_type": "code",
   "execution_count": 1,
   "metadata": {},
   "outputs": [],
   "source": [
    "import pandas as pd"
   ]
  },
  {
   "attachments": {},
   "cell_type": "markdown",
   "metadata": {},
   "source": [
    "#### Series\n",
    "A series a column in a table. It is a one dimensional array holding any type of data"
   ]
  },
  {
   "cell_type": "code",
   "execution_count": 5,
   "metadata": {},
   "outputs": [
    {
     "data": {
      "text/plain": [
       "0    1\n",
       "1    6\n",
       "2    4\n",
       "dtype: int64"
      ]
     },
     "execution_count": 5,
     "metadata": {},
     "output_type": "execute_result"
    }
   ],
   "source": [
    "# Here we create an array myList, then pass it through Series function from pandas create a series that also includes a an index \n",
    "myList = [1,6,4]\n",
    "mySeries = pd.Series(myList)\n",
    "mySeries"
   ]
  },
  {
   "attachments": {},
   "cell_type": "markdown",
   "metadata": {},
   "source": [
    "#### Labels"
   ]
  },
  {
   "cell_type": "code",
   "execution_count": 7,
   "metadata": {},
   "outputs": [
    {
     "data": {
      "text/plain": [
       "6"
      ]
     },
     "execution_count": 7,
     "metadata": {},
     "output_type": "execute_result"
    }
   ],
   "source": [
    "# notice how we can retrieve an element from the series by calling its index\n",
    "mySeries[1]"
   ]
  },
  {
   "cell_type": "code",
   "execution_count": 12,
   "metadata": {},
   "outputs": [
    {
     "data": {
      "text/plain": [
       "x    1\n",
       "y    4\n",
       "z    2\n",
       "dtype: int64"
      ]
     },
     "execution_count": 12,
     "metadata": {},
     "output_type": "execute_result"
    }
   ],
   "source": [
    "# In this program instead of retrieving and element from series using the index, we are going to assign labels to the values then retrieve the data\n",
    "mySeries2 = pd.Series([1,4,2,], index = [\"x\",\"y\",\"z\"])\n",
    "mySeries2"
   ]
  },
  {
   "cell_type": "code",
   "execution_count": 14,
   "metadata": {},
   "outputs": [
    {
     "data": {
      "text/plain": [
       "4"
      ]
     },
     "execution_count": 14,
     "metadata": {},
     "output_type": "execute_result"
    }
   ],
   "source": [
    "# Now we can access them using a the label name\n",
    "mySeries2[\"y\"]"
   ]
  },
  {
   "attachments": {},
   "cell_type": "markdown",
   "metadata": {},
   "source": [
    "#### key:Value-Objects-as-Series"
   ]
  },
  {
   "cell_type": "code",
   "execution_count": 20,
   "metadata": {},
   "outputs": [
    {
     "name": "stdout",
     "output_type": "stream",
     "text": [
      "This is our dictionary turned in a pandas series \n",
      "dog1     Lyra\n",
      "dog2    Jayce\n",
      "dog3     Jodi\n",
      "dtype: object\n"
     ]
    },
    {
     "data": {
      "text/plain": [
       "'Lyra'"
      ]
     },
     "execution_count": 20,
     "metadata": {},
     "output_type": "execute_result"
    }
   ],
   "source": [
    "# we can use dictionaries to create series and in this case the keys become the labels\n",
    "myDict = {\"dog1\":\"Lyra\", \"dog2\":\"Jayce\", \"dog3\":\"Jodi\", \"dog4\":\"Ellie\"} \n",
    "mySeries3 = pd.Series(myDict, index=[\"dog1\", \"dog2\",\"dog3\"]) # notice how we can select which key/pair values we want to be apart of our new series\n",
    "\n",
    "print(f'This is our dictionary turned in a pandas series \\n{mySeries3}')"
   ]
  },
  {
   "cell_type": "code",
   "execution_count": 21,
   "metadata": {},
   "outputs": [
    {
     "data": {
      "text/plain": [
       "'Jodi'"
      ]
     },
     "execution_count": 21,
     "metadata": {},
     "output_type": "execute_result"
    }
   ],
   "source": [
    "# We can also now retrieve a value from our series using a the dictionary key which is now the label\n",
    "mySeries3['dog3']"
   ]
  },
  {
   "attachments": {},
   "cell_type": "markdown",
   "metadata": {},
   "source": [
    "#### Pandas-Data-Frame"
   ]
  },
  {
   "attachments": {},
   "cell_type": "markdown",
   "metadata": {},
   "source": [
    "#### Locate-Row"
   ]
  },
  {
   "attachments": {},
   "cell_type": "markdown",
   "metadata": {},
   "source": [
    "#### Locate-Named-Indexes"
   ]
  }
 ],
 "metadata": {
  "kernelspec": {
   "display_name": ".venv",
   "language": "python",
   "name": "python3"
  },
  "language_info": {
   "codemirror_mode": {
    "name": "ipython",
    "version": 3
   },
   "file_extension": ".py",
   "mimetype": "text/x-python",
   "name": "python",
   "nbconvert_exporter": "python",
   "pygments_lexer": "ipython3",
   "version": "3.9.13"
  },
  "orig_nbformat": 4
 },
 "nbformat": 4,
 "nbformat_minor": 2
}
