{
 "cells": [
  {
   "attachments": {},
   "cell_type": "markdown",
   "metadata": {},
   "source": [
    "| Topic | Description |\n",
    "| ----------- | ----------- |\n",
    "| [Series](#Series) | Series is a one-dimensional labeled array capable of holding any data type (integer, string, float, etc.). It is similar to a column in a spreadsheet or a simple data structure like a list or an array |\n",
    "| [Labels](#Labels) | Label refers to the unique identifier associated with each element in a Series or DataFrame. It acts as an index or key that allows for easy identification and retrieval of specific data points. |\n",
    "| [key:Value Objects as Series](#Value-Objects-as-Series) | Converting python dictionaries from python into pandas data frames |\n",
    "| [Pandas Data Frame](#Pandas-Data-Frame) | Learn to convert dictionaries that include a key as the label, and array stored as the values to create a pandas DataFrame |\n",
    "| [Locate Row](#Locate-Row) | Learn to call the loc method to retrieve rows bases on indices |\n",
    "| [Locate Named Indexes](#Locate-Named-Indexes) | Learn how to create use the loc method to retrieve rows using named indices |\n",
    "| [Read CSV Files](#Read-CSV-Files) | Learn how to load in CSV files as a pandas Data Frame |\n",
    "| [Head Method](#Head-Method) | Learn how to use the head function to retrieve a sample size of a larger data set |\n"
   ]
  },
  {
   "cell_type": "code",
   "execution_count": null,
   "metadata": {},
   "outputs": [],
   "source": [
    "import pandas as pd"
   ]
  },
  {
   "attachments": {},
   "cell_type": "markdown",
   "metadata": {},
   "source": [
    "#### Series\n",
    "A series a column in a table. It is a one dimensional array holding any type of data"
   ]
  },
  {
   "cell_type": "code",
   "execution_count": null,
   "metadata": {},
   "outputs": [],
   "source": [
    "# Here we create an array myList, then pass it through Series function from pandas create a series that also includes a an index \n",
    "myList = [1,6,4]\n",
    "mySeries = pd.Series(myList)\n",
    "mySeries"
   ]
  },
  {
   "attachments": {},
   "cell_type": "markdown",
   "metadata": {},
   "source": [
    "#### Labels"
   ]
  },
  {
   "cell_type": "code",
   "execution_count": null,
   "metadata": {},
   "outputs": [],
   "source": [
    "# notice how we can retrieve an element from the series by calling its index\n",
    "mySeries[1]"
   ]
  },
  {
   "cell_type": "code",
   "execution_count": null,
   "metadata": {},
   "outputs": [],
   "source": [
    "# In this program instead of retrieving and element from series using the index, we are going to assign labels to the values then retrieve the data\n",
    "mySeries2 = pd.Series([1,4,2,], index = [\"x\",\"y\",\"z\"])\n",
    "mySeries2"
   ]
  },
  {
   "cell_type": "code",
   "execution_count": null,
   "metadata": {},
   "outputs": [],
   "source": [
    "# Now we can access them using a the label name\n",
    "mySeries2[\"y\"]"
   ]
  },
  {
   "attachments": {},
   "cell_type": "markdown",
   "metadata": {},
   "source": [
    "#### key:Value-Objects-as-Series"
   ]
  },
  {
   "cell_type": "code",
   "execution_count": null,
   "metadata": {},
   "outputs": [],
   "source": [
    "# we can use dictionaries to create series and in this case the keys become the labels\n",
    "myDict = {\"dog1\":\"Lyra\", \"dog2\":\"Jayce\", \"dog3\":\"Jodi\", \"dog4\":\"Ellie\"} \n",
    "mySeries3 = pd.Series(myDict, index=[\"dog1\", \"dog2\",\"dog3\"]) # notice how we can select which key/pair values we want to be apart of our new series\n",
    "\n",
    "print(f'This is our dictionary turned in a pandas series \\n{mySeries3}')"
   ]
  },
  {
   "cell_type": "code",
   "execution_count": null,
   "metadata": {},
   "outputs": [],
   "source": [
    "# We can also now retrieve a value from our series using a the dictionary key which is now the label\n",
    "mySeries3['dog3']"
   ]
  },
  {
   "attachments": {},
   "cell_type": "markdown",
   "metadata": {},
   "source": [
    "#### Pandas-Data-Frame"
   ]
  },
  {
   "cell_type": "code",
   "execution_count": null,
   "metadata": {},
   "outputs": [],
   "source": [
    "# A pandas data frame is a two dimensional structure "
   ]
  },
  {
   "cell_type": "code",
   "execution_count": null,
   "metadata": {},
   "outputs": [],
   "source": [
    "# here we use a python dictionary where the keys are our labels and the values are arrays holding our column values. We pass the 'data' object through the DataFrame function\n",
    "data = {\n",
    "    \"calories\":[433,554,634,154],\n",
    "    \"duration\":[10,12,17,3],\n",
    "    \"pulse\":[110,134,166,87]\n",
    "}\n",
    "\n",
    "dataFrame = pd.DataFrame(data)\n",
    "dataFrame"
   ]
  },
  {
   "attachments": {},
   "cell_type": "markdown",
   "metadata": {},
   "source": [
    "#### Locate-Row"
   ]
  },
  {
   "cell_type": "code",
   "execution_count": null,
   "metadata": {},
   "outputs": [],
   "source": [
    "# To locate a row from a pandas data frame using the Index value we can call the loc method\n",
    "dataFrame.loc[0]"
   ]
  },
  {
   "cell_type": "code",
   "execution_count": null,
   "metadata": {},
   "outputs": [],
   "source": [
    "# If you want the output to also be in the pandas data frame format you can use two brackets\n",
    "dataFrame.loc[[0,2]] # you can also now pass multiple indices"
   ]
  },
  {
   "attachments": {},
   "cell_type": "markdown",
   "metadata": {},
   "source": [
    "#### Locate-Named-Indexes"
   ]
  },
  {
   "cell_type": "code",
   "execution_count": null,
   "metadata": {},
   "outputs": [],
   "source": [
    "data2 = {\n",
    "    \"calories\":[433,554,634,154],\n",
    "    \"duration\":[10,12,17,3],\n",
    "    \"pulse\":[110,134,166,87]\n",
    "}\n",
    "df = pd.DataFrame(data2, index=['day1', 'day2', 'day3', 'day4'])\n",
    "df"
   ]
  },
  {
   "cell_type": "code",
   "execution_count": null,
   "metadata": {},
   "outputs": [],
   "source": [
    "df.loc[['day2']]"
   ]
  },
  {
   "attachments": {},
   "cell_type": "markdown",
   "metadata": {},
   "source": [
    "#### Read-CSV-Files"
   ]
  },
  {
   "cell_type": "code",
   "execution_count": null,
   "metadata": {},
   "outputs": [],
   "source": [
    "# Loading a csv file\n",
    "df2 = pd.read_csv('kaggleTitanicTestDataSet.csv')\n",
    "df2"
   ]
  },
  {
   "attachments": {},
   "cell_type": "markdown",
   "metadata": {},
   "source": [
    "#### Head-Method"
   ]
  },
  {
   "cell_type": "code",
   "execution_count": null,
   "metadata": {},
   "outputs": [],
   "source": [
    "numberOfRows = input(\"how many rows would you like you like to view?: \")\n",
    "df2.head(int(numberOfRows))"
   ]
  },
  {
   "attachments": {},
   "cell_type": "markdown",
   "metadata": {},
   "source": [
    "#### Viewing-All-Data-Using-to_string()"
   ]
  },
  {
   "cell_type": "code",
   "execution_count": null,
   "metadata": {},
   "outputs": [],
   "source": [
    "print(df2.to_string())"
   ]
  },
  {
   "attachments": {},
   "cell_type": "markdown",
   "metadata": {},
   "source": [
    "### Cleaning Data"
   ]
  },
  {
   "attachments": {},
   "cell_type": "markdown",
   "metadata": {},
   "source": [
    "#### Dealing-With-Empty-Cells"
   ]
  },
  {
   "cell_type": "code",
   "execution_count": 53,
   "metadata": {},
   "outputs": [],
   "source": [
    "df2.dropna(inplace=True) # the dropna method finds and removes all the empty cells and passing inplace=True applies changes to the original data frame. this way you dont have to assign the line of code to a new variable."
   ]
  }
 ],
 "metadata": {
  "kernelspec": {
   "display_name": ".venv",
   "language": "python",
   "name": "python3"
  },
  "language_info": {
   "codemirror_mode": {
    "name": "ipython",
    "version": 3
   },
   "file_extension": ".py",
   "mimetype": "text/x-python",
   "name": "python",
   "nbconvert_exporter": "python",
   "pygments_lexer": "ipython3",
   "version": "3.9.13"
  },
  "orig_nbformat": 4
 },
 "nbformat": 4,
 "nbformat_minor": 2
}
